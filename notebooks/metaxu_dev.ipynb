{
 "cells": [
  {
   "cell_type": "markdown",
   "metadata": {},
   "source": [
    "# Metaxu Development Notebook\n",
    "\n",
    "This notebook provides an interactive environment for developing and debugging Metaxu code."
   ]
  },
  {
   "cell_type": "code",
   "execution_count": null,
   "metadata": {},
   "source": [
    "import sys\n",
    "sys.path.append('../src')\n",
    "\n",
    "from metaxu import MetaxuCompiler, CompileOptions"
   ]
  },
  {
   "cell_type": "code",
   "execution_count": null,
   "metadata": {},
   "source": [
    "# Create compiler with debug options\n",
    "options = CompileOptions(dump_ast=True, dump_ir=True)\n",
    "compiler = MetaxuCompiler(options)"
   ]
  },
  {
   "cell_type": "code",
   "execution_count": null,
   "metadata": {},
   "source": [
    "# Test simple expression\n",
    "source = \"\"\"\n",
    "let x = 42\n",
    "print(x)\n",
    "\"\"\"\n",
    "\n",
    "code = compiler.compile_str(source)\n",
    "result = compiler.run_vm(code)\n",
    "print(\"Result:\", result)"
   ]
  },
  {
   "cell_type": "code",
   "execution_count": null,
   "metadata": {},
   "source": [
    "# Test algebraic effects\n",
    "effect_source = \"\"\"\n",
    "effect Logger {\n",
    "    log(message: String) -> Unit\n",
    "}\n",
    "\n",
    "fn main() {\n",
    "    handle {\n",
    "        Logger.log(msg) -> {\n",
    "            print(msg)\n",
    "            resume(())\n",
    "        }\n",
    "    } in {\n",
    "        perform Logger.log(\"Hello effects!\")\n",
    "    }\n",
    "}\n",
    "\"\"\"\n",
    "\n",
    "code = compiler.compile_str(effect_source)\n",
    "result = compiler.run_vm(code)"
   ]
  },
  {
   "cell_type": "code",
   "execution_count": null,
   "metadata": {},
   "source": [
    "# Test ownership types\n",
    "ownership_source = \"\"\"\n",
    "struct Buffer {\n",
    "    data: unique [Int]\n",
    "}\n",
    "\n",
    "fn process(buf: &mut Buffer) {\n",
    "    buf.data[0] = 42\n",
    "}\n",
    "\n",
    "fn main() {\n",
    "    let buf = Buffer { data: [1, 2, 3] }\n",
    "    process(&mut buf)\n",
    "    print(buf.data[0])\n",
    "}\n",
    "\"\"\"\n",
    "\n",
    "code = compiler.compile_str(ownership_source)\n",
    "result = compiler.run_vm(code)"
   ]
  },
  {
   "cell_type": "markdown",
   "metadata": {},
   "source": [
    "## Debugging Tools\n",
    "\n",
    "Helper functions for debugging compiler stages"
   ]
  },
  {
   "cell_type": "code",
   "execution_count": null,
   "metadata": {},
   "source": [
    "def debug_parse(source):\n",
    "    \"\"\"Debug parsing stage\"\"\"\n",
    "    ast = compiler.parser.parse(source)\n",
    "    print(\"AST:\")\n",
    "    print(ast)\n",
    "    return ast\n",
    "\n",
    "def debug_typecheck(ast):\n",
    "    \"\"\"Debug type checking stage\"\"\"\n",
    "    compiler.type_checker.check(ast)\n",
    "    if compiler.type_checker.errors:\n",
    "        print(\"Type Errors:\")\n",
    "        for error in compiler.type_checker.errors:\n",
    "            print(f\"- {error}\")\n",
    "    else:\n",
    "        print(\"Type checking passed!\")\n",
    "\n",
    "def debug_codegen(ast):\n",
    "    \"\"\"Debug code generation stage\"\"\"\n",
    "    code = compiler.code_generator.generate(ast)\n",
    "    print(\"Generated Code:\")\n",
    "    print(code)\n",
    "    return code"
   ]
  },
  {
   "cell_type": "code",
   "execution_count": null,
   "metadata": {},
   "source": [
    "# Example of using debug tools\n",
    "source = \"\"\"\n",
    "effect State<T> {\n",
    "    get() -> T\n",
    "    put(value: T) -> Unit\n",
    "}\n",
    "\n",
    "fn counter() -> Int {\n",
    "    perform State.get() + 1\n",
    "}\n",
    "\"\"\"\n",
    "\n",
    "ast = debug_parse(source)\n",
    "debug_typecheck(ast)\n",
    "code = debug_codegen(ast)"
   ]
  }
 ],
 "metadata": {
  "kernelspec": {
   "display_name": "Python 3",
   "language": "python",
   "name": "python3"
  },
  "language_info": {
   "codemirror_mode": {
    "name": "ipython",
    "version": 3
   },
   "file_extension": ".py",
   "mimetype": "text/x-python",
   "name": "python",
   "nbconvert_exporter": "python",
   "pygments_lexer": "ipython3",
   "version": "3.8.0"
  }
 },
 "nbformat": 4,
 "nbformat_minor": 4
}
